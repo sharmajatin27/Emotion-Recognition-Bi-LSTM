{
 "cells": [
  {
   "cell_type": "markdown",
   "metadata": {
    "_cell_guid": "b1076dfc-b9ad-4769-8c92-a6c4dae69d19",
    "_uuid": "8f2839f25d086af736a60e9eeb907d3b93b6e0e5",
    "execution": {
     "iopub.execute_input": "2023-11-03T19:07:33.355216Z",
     "iopub.status.busy": "2023-11-03T19:07:33.354289Z",
     "iopub.status.idle": "2023-11-03T19:07:33.362902Z",
     "shell.execute_reply": "2023-11-03T19:07:33.361799Z",
     "shell.execute_reply.started": "2023-11-03T19:07:33.355181Z"
    },
    "id": "M7zZwWpQJI3b"
   },
   "source": []
  },
  {
   "cell_type": "markdown",
   "metadata": {
    "id": "mq4hZC1-JI3e"
   },
   "source": [
    "# 1. Importing the necessary dependencies"
   ]
  },
  {
   "cell_type": "code",
   "execution_count": 1,
   "metadata": {
    "execution": {
     "iopub.execute_input": "2023-11-03T20:09:09.374087Z",
     "iopub.status.busy": "2023-11-03T20:09:09.373310Z",
     "iopub.status.idle": "2023-11-03T20:09:09.381685Z",
     "shell.execute_reply": "2023-11-03T20:09:09.380557Z",
     "shell.execute_reply.started": "2023-11-03T20:09:09.374051Z"
    },
    "executionInfo": {
     "elapsed": 797,
     "status": "ok",
     "timestamp": 1712330181133,
     "user": {
      "displayName": "Jatin Sharma",
      "userId": "09853579477481339635"
     },
     "user_tz": -330
    },
    "id": "z_L0a0dkJI3e"
   },
   "outputs": [
    {
     "name": "stdout",
     "output_type": "stream",
     "text": [
      "WARNING:tensorflow:From c:\\users\\professional\\appdata\\local\\programs\\python\\python38\\lib\\site-packages\\tensorflow\\python\\ops\\distributions\\distribution.py:259: ReparameterizationType.__init__ (from tensorflow.python.ops.distributions.distribution) is deprecated and will be removed after 2019-01-01.\n",
      "Instructions for updating:\n",
      "The TensorFlow Distributions library has moved to TensorFlow Probability (https://github.com/tensorflow/probability). You should update all references to use `tfp.distributions` instead of `tf.distributions`.\n",
      "WARNING:tensorflow:From c:\\users\\professional\\appdata\\local\\programs\\python\\python38\\lib\\site-packages\\tensorflow\\python\\ops\\distributions\\bernoulli.py:165: RegisterKL.__init__ (from tensorflow.python.ops.distributions.kullback_leibler) is deprecated and will be removed after 2019-01-01.\n",
      "Instructions for updating:\n",
      "The TensorFlow Distributions library has moved to TensorFlow Probability (https://github.com/tensorflow/probability). You should update all references to use `tfp.distributions` instead of `tf.distributions`.\n"
     ]
    }
   ],
   "source": [
    "# Importing the dependencies\n",
    "\n",
    "import numpy as np\n",
    "import pandas as pd\n",
    "import matplotlib.pyplot as plt\n",
    "import seaborn as sns\n",
    "\n",
    "import sklearn\n",
    "from sklearn.model_selection import train_test_split\n",
    "from sklearn.metrics import accuracy_score,confusion_matrix,f1_score,recall_score,precision_score\n",
    "\n",
    "import nltk\n",
    "import re\n",
    "\n",
    "import string\n",
    "from nltk.corpus import stopwords\n",
    "from nltk.tokenize import word_tokenize\n",
    "from nltk.stem.porter import PorterStemmer\n",
    "\n",
    "import tensorflow as tf\n",
    "import keras\n",
    "from keras.preprocessing.text import Tokenizer\n",
    "from keras.utils import pad_sequences,to_categorical\n",
    "from keras.models import Sequential\n",
    "from keras.layers import Dense,Embedding,SimpleRNN,LSTM,GRU,Bidirectional\n",
    "\n",
    "import warnings\n",
    "warnings.filterwarnings('ignore')  # To ignore warnings"
   ]
  },
  {
   "cell_type": "code",
   "execution_count": 2,
   "metadata": {
    "execution": {
     "iopub.execute_input": "2023-11-03T19:44:11.296919Z",
     "iopub.status.busy": "2023-11-03T19:44:11.296532Z",
     "iopub.status.idle": "2023-11-03T19:44:11.387861Z",
     "shell.execute_reply": "2023-11-03T19:44:11.387010Z",
     "shell.execute_reply.started": "2023-11-03T19:44:11.296864Z"
    },
    "executionInfo": {
     "elapsed": 21,
     "status": "ok",
     "timestamp": 1712330181654,
     "user": {
      "displayName": "Jatin Sharma",
      "userId": "09853579477481339635"
     },
     "user_tz": -330
    },
    "id": "1s8j9VoRJI3i"
   },
   "outputs": [],
   "source": [
    "train_data = pd.read_csv(\"train.txt\",sep=\";\",names=[\"text\",\"label\"]) # Importing the train dataset\n",
    "test_data = pd.read_csv(\"test.txt\",sep=\";\",names=[\"text\",\"label\"])   # Importing the test dataset\n",
    "validation_data = pd.read_csv(\"val.txt\",sep=\";\",names=[\"text\",\"label\"])  # Importing the validation dataset"
   ]
  },
  {
   "cell_type": "markdown",
   "metadata": {
    "id": "HjbTh38_JI3j"
   },
   "source": [
    "# 2. Performing the Data Analysis"
   ]
  },
  {
   "cell_type": "code",
   "execution_count": 3,
   "metadata": {
    "colab": {
     "base_uri": "https://localhost:8080/"
    },
    "execution": {
     "iopub.execute_input": "2023-11-03T19:44:11.390171Z",
     "iopub.status.busy": "2023-11-03T19:44:11.389876Z",
     "iopub.status.idle": "2023-11-03T19:44:11.410713Z",
     "shell.execute_reply": "2023-11-03T19:44:11.409858Z",
     "shell.execute_reply.started": "2023-11-03T19:44:11.390146Z"
    },
    "executionInfo": {
     "elapsed": 22,
     "status": "ok",
     "timestamp": 1712330181655,
     "user": {
      "displayName": "Jatin Sharma",
      "userId": "09853579477481339635"
     },
     "user_tz": -330
    },
    "id": "jow3KKyWJI3j",
    "outputId": "963d03a8-7c43-44db-8735-a699b4f96e70"
   },
   "outputs": [
    {
     "name": "stdout",
     "output_type": "stream",
     "text": [
      "Train data :\n",
      "                                                 text    label\n",
      "0                            i didnt feel humiliated  sadness\n",
      "1  i can go from feeling so hopeless to so damned...  sadness\n",
      "2   im grabbing a minute to post i feel greedy wrong    anger\n",
      "3  i am ever feeling nostalgic about the fireplac...     love\n",
      "4                               i am feeling grouchy    anger \n",
      "\n",
      "Test data :\n",
      "                                                 text    label\n",
      "0  im feeling rather rotten so im not very ambiti...  sadness\n",
      "1          im updating my blog because i feel shitty  sadness\n",
      "2  i never make her separate from me because i do...  sadness\n",
      "3  i left with my bouquet of red and yellow tulip...      joy\n",
      "4    i was feeling a little vain when i did this one  sadness \n",
      "\n",
      "Validation data :\n",
      "                                                 text    label\n",
      "0  im feeling quite sad and sorry for myself but ...  sadness\n",
      "1  i feel like i am still looking at a blank canv...  sadness\n",
      "2                     i feel like a faithful servant     love\n",
      "3                  i am just feeling cranky and blue    anger\n",
      "4  i can have for a treat or if i am feeling festive      joy \n",
      "\n"
     ]
    }
   ],
   "source": [
    "print(\"Train data :\\n\",train_data.head(),\"\\n\")  # Printing the train dataset\n",
    "print(\"Test data :\\n\",test_data.head(),\"\\n\")   # Printing the test dataset\n",
    "print(\"Validation data :\\n\",validation_data.head(),\"\\n\")  # Printing the validation dataset"
   ]
  },
  {
   "cell_type": "code",
   "execution_count": 4,
   "metadata": {
    "colab": {
     "base_uri": "https://localhost:8080/"
    },
    "execution": {
     "iopub.execute_input": "2023-11-03T19:44:11.412269Z",
     "iopub.status.busy": "2023-11-03T19:44:11.411959Z",
     "iopub.status.idle": "2023-11-03T19:44:11.418147Z",
     "shell.execute_reply": "2023-11-03T19:44:11.417310Z",
     "shell.execute_reply.started": "2023-11-03T19:44:11.412245Z"
    },
    "executionInfo": {
     "elapsed": 21,
     "status": "ok",
     "timestamp": 1712330181655,
     "user": {
      "displayName": "Jatin Sharma",
      "userId": "09853579477481339635"
     },
     "user_tz": -330
    },
    "id": "OxcTXCBgJI3j",
    "outputId": "551a0300-9513-4a98-9726-f35d46fe0065"
   },
   "outputs": [
    {
     "name": "stdout",
     "output_type": "stream",
     "text": [
      "Train Data shape:  (16000, 2)\n",
      "Test Data shape:  (2000, 2)\n",
      "Validation Data shape:  (2000, 2)\n"
     ]
    }
   ],
   "source": [
    "print(\"Train Data shape: \",train_data.shape) #Printing the shape train data\n",
    "print(\"Test Data shape: \",test_data.shape) #Printing the shape test data\n",
    "print(\"Validation Data shape: \",validation_data.shape) #Printing the shape validation data"
   ]
  },
  {
   "cell_type": "code",
   "execution_count": 5,
   "metadata": {
    "colab": {
     "base_uri": "https://localhost:8080/"
    },
    "execution": {
     "iopub.execute_input": "2023-11-03T19:44:11.420018Z",
     "iopub.status.busy": "2023-11-03T19:44:11.419431Z",
     "iopub.status.idle": "2023-11-03T19:44:11.468128Z",
     "shell.execute_reply": "2023-11-03T19:44:11.467288Z",
     "shell.execute_reply.started": "2023-11-03T19:44:11.419950Z"
    },
    "executionInfo": {
     "elapsed": 18,
     "status": "ok",
     "timestamp": 1712330181655,
     "user": {
      "displayName": "Jatin Sharma",
      "userId": "09853579477481339635"
     },
     "user_tz": -330
    },
    "id": "F1iNqTYwJI3k",
    "outputId": "3f09a2f8-e4a5-4904-a136-b12ee6251bae"
   },
   "outputs": [
    {
     "name": "stdout",
     "output_type": "stream",
     "text": [
      "<class 'pandas.core.frame.DataFrame'>\n",
      "RangeIndex: 16000 entries, 0 to 15999\n",
      "Data columns (total 2 columns):\n",
      " #   Column  Non-Null Count  Dtype \n",
      "---  ------  --------------  ----- \n",
      " 0   text    16000 non-null  object\n",
      " 1   label   16000 non-null  object\n",
      "dtypes: object(2)\n",
      "memory usage: 250.1+ KB\n",
      "None\n"
     ]
    }
   ],
   "source": [
    "## Performing the EDA for the training dataset only\n",
    "print(train_data.info()) # Information about training dataset"
   ]
  },
  {
   "cell_type": "code",
   "execution_count": 6,
   "metadata": {
    "colab": {
     "base_uri": "https://localhost:8080/"
    },
    "execution": {
     "iopub.execute_input": "2023-11-03T19:44:11.469420Z",
     "iopub.status.busy": "2023-11-03T19:44:11.469145Z",
     "iopub.status.idle": "2023-11-03T19:44:11.482209Z",
     "shell.execute_reply": "2023-11-03T19:44:11.481325Z",
     "shell.execute_reply.started": "2023-11-03T19:44:11.469396Z"
    },
    "executionInfo": {
     "elapsed": 15,
     "status": "ok",
     "timestamp": 1712330181655,
     "user": {
      "displayName": "Jatin Sharma",
      "userId": "09853579477481339635"
     },
     "user_tz": -330
    },
    "id": "qvMP7NXzJI3l",
    "outputId": "4b9f72b0-7740-4578-ad94-29b5a76a6f46"
   },
   "outputs": [
    {
     "name": "stdout",
     "output_type": "stream",
     "text": [
      "                                                     text  label\n",
      "count                                               16000  16000\n",
      "unique                                              15969      6\n",
      "top     i feel on the verge of tears from weariness i ...    joy\n",
      "freq                                                    2   5362\n"
     ]
    }
   ],
   "source": [
    "print(train_data.describe()) # Describeing the numerical data of training dataset"
   ]
  },
  {
   "cell_type": "code",
   "execution_count": 7,
   "metadata": {
    "colab": {
     "base_uri": "https://localhost:8080/"
    },
    "execution": {
     "iopub.execute_input": "2023-11-03T19:44:11.483771Z",
     "iopub.status.busy": "2023-11-03T19:44:11.483458Z",
     "iopub.status.idle": "2023-11-03T19:44:11.503798Z",
     "shell.execute_reply": "2023-11-03T19:44:11.502745Z",
     "shell.execute_reply.started": "2023-11-03T19:44:11.483742Z"
    },
    "executionInfo": {
     "elapsed": 14,
     "status": "ok",
     "timestamp": 1712330181655,
     "user": {
      "displayName": "Jatin Sharma",
      "userId": "09853579477481339635"
     },
     "user_tz": -330
    },
    "id": "fm1DTwrjJI3l",
    "outputId": "4f6ada3e-940f-460f-926b-1eae1c8f0251"
   },
   "outputs": [
    {
     "name": "stdout",
     "output_type": "stream",
     "text": [
      "                                                     text  label\n",
      "count                                               16000  16000\n",
      "unique                                              15969      6\n",
      "top     i feel on the verge of tears from weariness i ...    joy\n",
      "freq                                                    2   5362\n"
     ]
    }
   ],
   "source": [
    "print(train_data.describe(include = 'O')) # Describeing the non-numerical data of training dataset"
   ]
  },
  {
   "cell_type": "code",
   "execution_count": 8,
   "metadata": {
    "colab": {
     "base_uri": "https://localhost:8080/"
    },
    "execution": {
     "iopub.execute_input": "2023-11-03T19:44:11.505765Z",
     "iopub.status.busy": "2023-11-03T19:44:11.505405Z",
     "iopub.status.idle": "2023-11-03T19:44:11.514567Z",
     "shell.execute_reply": "2023-11-03T19:44:11.513606Z",
     "shell.execute_reply.started": "2023-11-03T19:44:11.505733Z"
    },
    "executionInfo": {
     "elapsed": 12,
     "status": "ok",
     "timestamp": 1712330181656,
     "user": {
      "displayName": "Jatin Sharma",
      "userId": "09853579477481339635"
     },
     "user_tz": -330
    },
    "id": "XcvfUiJZJI3m",
    "outputId": "29a5c4f2-d056-4973-c430-c17a19d586a6"
   },
   "outputs": [
    {
     "data": {
      "text/plain": [
       "joy         5362\n",
       "sadness     4666\n",
       "anger       2159\n",
       "fear        1937\n",
       "love        1304\n",
       "surprise     572\n",
       "Name: label, dtype: int64"
      ]
     },
     "execution_count": 8,
     "metadata": {},
     "output_type": "execute_result"
    }
   ],
   "source": [
    "train_data['label'].value_counts() # Counting the number of positive and negative sentiments of the training dataset"
   ]
  },
  {
   "cell_type": "code",
   "execution_count": 9,
   "metadata": {
    "colab": {
     "base_uri": "https://localhost:8080/",
     "height": 206
    },
    "executionInfo": {
     "elapsed": 10,
     "status": "ok",
     "timestamp": 1712330181656,
     "user": {
      "displayName": "Jatin Sharma",
      "userId": "09853579477481339635"
     },
     "user_tz": -330
    },
    "id": "Z88eKssHPzNO",
    "outputId": "6f93f259-b39f-469e-9a50-480828b0ea04"
   },
   "outputs": [
    {
     "data": {
      "text/html": [
       "<div>\n",
       "<style scoped>\n",
       "    .dataframe tbody tr th:only-of-type {\n",
       "        vertical-align: middle;\n",
       "    }\n",
       "\n",
       "    .dataframe tbody tr th {\n",
       "        vertical-align: top;\n",
       "    }\n",
       "\n",
       "    .dataframe thead th {\n",
       "        text-align: right;\n",
       "    }\n",
       "</style>\n",
       "<table border=\"1\" class=\"dataframe\">\n",
       "  <thead>\n",
       "    <tr style=\"text-align: right;\">\n",
       "      <th></th>\n",
       "      <th>text</th>\n",
       "      <th>label</th>\n",
       "    </tr>\n",
       "  </thead>\n",
       "  <tbody>\n",
       "    <tr>\n",
       "      <th>0</th>\n",
       "      <td>i didnt feel humiliated</td>\n",
       "      <td>1</td>\n",
       "    </tr>\n",
       "    <tr>\n",
       "      <th>1</th>\n",
       "      <td>i can go from feeling so hopeless to so damned...</td>\n",
       "      <td>1</td>\n",
       "    </tr>\n",
       "    <tr>\n",
       "      <th>2</th>\n",
       "      <td>im grabbing a minute to post i feel greedy wrong</td>\n",
       "      <td>2</td>\n",
       "    </tr>\n",
       "    <tr>\n",
       "      <th>3</th>\n",
       "      <td>i am ever feeling nostalgic about the fireplac...</td>\n",
       "      <td>4</td>\n",
       "    </tr>\n",
       "    <tr>\n",
       "      <th>4</th>\n",
       "      <td>i am feeling grouchy</td>\n",
       "      <td>2</td>\n",
       "    </tr>\n",
       "  </tbody>\n",
       "</table>\n",
       "</div>"
      ],
      "text/plain": [
       "                                                text  label\n",
       "0                            i didnt feel humiliated      1\n",
       "1  i can go from feeling so hopeless to so damned...      1\n",
       "2   im grabbing a minute to post i feel greedy wrong      2\n",
       "3  i am ever feeling nostalgic about the fireplac...      4\n",
       "4                               i am feeling grouchy      2"
      ]
     },
     "execution_count": 9,
     "metadata": {},
     "output_type": "execute_result"
    }
   ],
   "source": [
    "train_data['label'] = train_data['label'].map({\n",
    "    'joy' : 0,\n",
    "    'sadness': 1,\n",
    "    'anger': 2,\n",
    "    'fear': 3,\n",
    "    'love': 4,\n",
    "    'surprise':5\n",
    "})\n",
    "train_data.head()\n",
    "\n",
    "test_data['label'] = test_data['label'].map({\n",
    "    'joy' : 0,\n",
    "    'sadness': 1,\n",
    "    'anger': 2,\n",
    "    'fear': 3,\n",
    "    'love': 4,\n",
    "    'surprise':5\n",
    "})\n",
    "test_data.head()\n",
    "\n",
    "validation_data['label'] = validation_data['label'].map({\n",
    "    'joy' : 0,\n",
    "    'sadness': 1,\n",
    "    'anger': 2,\n",
    "    'fear': 3,\n",
    "    'love': 4,\n",
    "    'surprise':5\n",
    "})\n",
    "train_data.head()"
   ]
  },
  {
   "cell_type": "code",
   "execution_count": 10,
   "metadata": {
    "colab": {
     "base_uri": "https://localhost:8080/",
     "height": 444
    },
    "execution": {
     "iopub.execute_input": "2023-11-03T19:44:11.519163Z",
     "iopub.status.busy": "2023-11-03T19:44:11.518872Z",
     "iopub.status.idle": "2023-11-03T19:44:11.834338Z",
     "shell.execute_reply": "2023-11-03T19:44:11.833335Z",
     "shell.execute_reply.started": "2023-11-03T19:44:11.519140Z"
    },
    "executionInfo": {
     "elapsed": 520,
     "status": "ok",
     "timestamp": 1712330182168,
     "user": {
      "displayName": "Jatin Sharma",
      "userId": "09853579477481339635"
     },
     "user_tz": -330
    },
    "id": "bG4cVPg8JI3m",
    "outputId": "958bef4a-c924-4eb4-f6b2-de80a0c51327"
   },
   "outputs": [
    {
     "data": {
      "image/png": "[encoded data removed]",
      "text/plain": [
       "<Figure size 432x288 with 1 Axes>"
      ]
     },
     "metadata": {
      "needs_background": "light"
     },
     "output_type": "display_data"
    }
   ],
   "source": [
    "train_data['label'].value_counts().plot(kind = 'bar') # Plotting the bar plot for visualizing the countness of positive and negative labels\n",
    "plt.show()"
   ]
  },
  {
   "cell_type": "markdown",
   "metadata": {
    "id": "SPgd5MdTJI3n"
   },
   "source": [
    "# 3. Feature Engineering"
   ]
  },
  {
   "cell_type": "code",
   "execution_count": 11,
   "metadata": {
    "colab": {
     "base_uri": "https://localhost:8080/"
    },
    "execution": {
     "iopub.execute_input": "2023-11-03T19:44:11.835798Z",
     "iopub.status.busy": "2023-11-03T19:44:11.835536Z",
     "iopub.status.idle": "2023-11-03T19:44:11.852408Z",
     "shell.execute_reply": "2023-11-03T19:44:11.851377Z",
     "shell.execute_reply.started": "2023-11-03T19:44:11.835773Z"
    },
    "executionInfo": {
     "elapsed": 15,
     "status": "ok",
     "timestamp": 1712330182168,
     "user": {
      "displayName": "Jatin Sharma",
      "userId": "09853579477481339635"
     },
     "user_tz": -330
    },
    "id": "n22nsGFWJI3o",
    "outputId": "d6ba096f-c1ea-4623-b6a9-070556fc0358"
   },
   "outputs": [
    {
     "name": "stdout",
     "output_type": "stream",
     "text": [
      "The Null value rows present in the trianing dataset is :  text     0\n",
      "label    0\n",
      "dtype: int64\n",
      "The Duplicate rows present in the training dataset is :  1\n"
     ]
    }
   ],
   "source": [
    "print(\"The Null value rows present in the trianing dataset is : \",train_data.isna().sum())    # Printing the null value present in the training dataset\n",
    "print(\"The Duplicate rows present in the training dataset is : \",train_data.duplicated().sum())   # Printing the duplicated value present in the training dataset"
   ]
  },
  {
   "cell_type": "code",
   "execution_count": 12,
   "metadata": {
    "execution": {
     "iopub.execute_input": "2023-11-03T19:44:11.853909Z",
     "iopub.status.busy": "2023-11-03T19:44:11.853586Z",
     "iopub.status.idle": "2023-11-03T19:44:11.867518Z",
     "shell.execute_reply": "2023-11-03T19:44:11.866627Z",
     "shell.execute_reply.started": "2023-11-03T19:44:11.853877Z"
    },
    "executionInfo": {
     "elapsed": 12,
     "status": "ok",
     "timestamp": 1712330182168,
     "user": {
      "displayName": "Jatin Sharma",
      "userId": "09853579477481339635"
     },
     "user_tz": -330
    },
    "id": "BztJc63UJI3o"
   },
   "outputs": [],
   "source": [
    "train_data.drop_duplicates(keep = 'first',inplace=True) # Dropping the duplicated values and keeping the first value in the dataset"
   ]
  },
  {
   "cell_type": "code",
   "execution_count": 13,
   "metadata": {
    "colab": {
     "base_uri": "https://localhost:8080/"
    },
    "execution": {
     "iopub.execute_input": "2023-11-03T19:44:11.868839Z",
     "iopub.status.busy": "2023-11-03T19:44:11.868608Z",
     "iopub.status.idle": "2023-11-03T19:44:11.880214Z",
     "shell.execute_reply": "2023-11-03T19:44:11.879356Z",
     "shell.execute_reply.started": "2023-11-03T19:44:11.868817Z"
    },
    "executionInfo": {
     "elapsed": 13,
     "status": "ok",
     "timestamp": 1712330182169,
     "user": {
      "displayName": "Jatin Sharma",
      "userId": "09853579477481339635"
     },
     "user_tz": -330
    },
    "id": "UbJo29B3JI3p",
    "outputId": "850cba89-df6d-4666-bf5a-fefcdc2e6490"
   },
   "outputs": [
    {
     "name": "stdout",
     "output_type": "stream",
     "text": [
      "Now the Duplicate rows present in the training dataset is :  0\n",
      "Now the shape of the training dataset is  (15999, 2)\n"
     ]
    }
   ],
   "source": [
    "print(\"Now the Duplicate rows present in the training dataset is : \",train_data.duplicated().sum()) # After Dropping now the duplicated values are zero\n",
    "print(\"Now the shape of the training dataset is \",train_data.shape) # After dropping the duplicates the rows of the training data reduce"
   ]
  },
  {
   "cell_type": "code",
   "execution_count": 14,
   "metadata": {
    "colab": {
     "base_uri": "https://localhost:8080/"
    },
    "execution": {
     "iopub.execute_input": "2023-11-03T19:44:11.881517Z",
     "iopub.status.busy": "2023-11-03T19:44:11.881264Z",
     "iopub.status.idle": "2023-11-03T19:44:12.011229Z",
     "shell.execute_reply": "2023-11-03T19:44:12.010158Z",
     "shell.execute_reply.started": "2023-11-03T19:44:11.881493Z"
    },
    "executionInfo": {
     "elapsed": 11,
     "status": "ok",
     "timestamp": 1712330182169,
     "user": {
      "displayName": "Jatin Sharma",
      "userId": "09853579477481339635"
     },
     "user_tz": -330
    },
    "id": "Bd5OlDviJI3p",
    "outputId": "edc7bdb5-3386-413b-9d7e-a85950ff8291"
   },
   "outputs": [
    {
     "name": "stderr",
     "output_type": "stream",
     "text": [
      "[nltk_data] Downloading package stopwords to\n",
      "[nltk_data]     C:\\Users\\professional\\AppData\\Roaming\\nltk_data...\n",
      "[nltk_data]   Package stopwords is already up-to-date!\n"
     ]
    }
   ],
   "source": [
    "## Perfoming the text preprocessing\n",
    "\n",
    "nltk.download('stopwords')  # Downloading all the stopwords from the nltk library\n",
    "pattern = re.compile('<.*?>')  # Pattern for removing the HTML tags\n",
    "punctuation = string.punctuation   # Extracting all punctuation from the string library\n",
    "ps = PorterStemmer()  # Creating a PorterStemmer object for the stemming purpose\n",
    "tokenizer = Tokenizer() # Creating a Tokenizer object for representing the text into numeric form\n",
    "\n",
    "def text_preprocess(text):\n",
    "\n",
    "  text = re.sub(pattern,'',text)  # Removing the HTML tags using re library\n",
    "\n",
    "  text = text.lower()  # Lower case all the character present in the text\n",
    "\n",
    "  text = text.translate(str.maketrans('','',punctuation))   # Removing all the punctuation from the text\n",
    "\n",
    "  text = text.split()    # word tokenize the text\n",
    "\n",
    "  text = [ps.stem(word) for word in text if word not in stopwords.words('english')]  # Removing the stopwords from the text and stem each word\n",
    "\n",
    "  return ' '.join(text)  # Join each word for the formation of clear text in string form\n"
   ]
  },
  {
   "cell_type": "code",
   "execution_count": 15,
   "metadata": {
    "execution": {
     "iopub.execute_input": "2023-11-03T19:44:12.013014Z",
     "iopub.status.busy": "2023-11-03T19:44:12.012616Z",
     "iopub.status.idle": "2023-11-03T19:45:04.862285Z",
     "shell.execute_reply": "2023-11-03T19:45:04.861270Z",
     "shell.execute_reply.started": "2023-11-03T19:44:12.012949Z"
    },
    "executionInfo": {
     "elapsed": 51511,
     "status": "ok",
     "timestamp": 1712330233671,
     "user": {
      "displayName": "Jatin Sharma",
      "userId": "09853579477481339635"
     },
     "user_tz": -330
    },
    "id": "K5rKHihMJI3q"
   },
   "outputs": [],
   "source": [
    "processed_train_data = [text_preprocess(words) for words in train_data['text']]   # Applying the text pre-processing fuction to the text column of train dataset\n",
    "processed_validation_data = [text_preprocess(words) for words in validation_data['text']]  # Applying the text pre-processing fuction to the text column of validation dataset\n",
    "processed_test_data = [text_preprocess(words) for words in test_data['text']]   # Applying the text pre-processing fuction to the text column of test dataset"
   ]
  },
  {
   "cell_type": "code",
   "execution_count": 16,
   "metadata": {
    "colab": {
     "base_uri": "https://localhost:8080/"
    },
    "execution": {
     "iopub.execute_input": "2023-11-03T19:45:04.864305Z",
     "iopub.status.busy": "2023-11-03T19:45:04.863665Z",
     "iopub.status.idle": "2023-11-03T19:45:05.006682Z",
     "shell.execute_reply": "2023-11-03T19:45:05.005736Z",
     "shell.execute_reply.started": "2023-11-03T19:45:04.864268Z"
    },
    "executionInfo": {
     "elapsed": 30,
     "status": "ok",
     "timestamp": 1712330233672,
     "user": {
      "displayName": "Jatin Sharma",
      "userId": "09853579477481339635"
     },
     "user_tz": -330
    },
    "id": "Ct43RdAaJI3q",
    "outputId": "5eaf462c-375a-4bd3-c9c3-8b5abe8a1006"
   },
   "outputs": [
    {
     "name": "stdout",
     "output_type": "stream",
     "text": [
      "20360\n"
     ]
    }
   ],
   "source": [
    "# Putting all the processed text of train data into a whole text. Then fit this whole text into the tokenizer for word embedding.\n",
    "\n",
    "whole_text = ''\n",
    "\n",
    "for i in processed_train_data:\n",
    "  whole_text = whole_text + i\n",
    "\n",
    "\n",
    "tokenizer.fit_on_texts([whole_text])\n",
    "print(len(tokenizer.word_index))   # Printing the vocab size or the number of words present in the train data text. This is used as hyperparameter for the embedding layer."
   ]
  },
  {
   "cell_type": "code",
   "execution_count": 17,
   "metadata": {
    "execution": {
     "iopub.execute_input": "2023-11-03T19:45:05.008607Z",
     "iopub.status.busy": "2023-11-03T19:45:05.007914Z",
     "iopub.status.idle": "2023-11-03T19:45:05.323570Z",
     "shell.execute_reply": "2023-11-03T19:45:05.322775Z",
     "shell.execute_reply.started": "2023-11-03T19:45:05.008565Z"
    },
    "executionInfo": {
     "elapsed": 26,
     "status": "ok",
     "timestamp": 1712330233672,
     "user": {
      "displayName": "Jatin Sharma",
      "userId": "09853579477481339635"
     },
     "user_tz": -330
    },
    "id": "CZ1NOpGrJI3q"
   },
   "outputs": [],
   "source": [
    "# In this cell the train processed texts are converted into respective numeric sequences which are further padded to have equal sizes.\n",
    "\n",
    "x_train_sequences = []\n",
    "\n",
    "for i in processed_train_data:\n",
    "  x_train_sequences.append(tokenizer.texts_to_sequences([i])[0])  # Each processed text is converted into sequences\n",
    "\n",
    "\n",
    "x_train_padseq = pad_sequences(x_train_sequences,maxlen = 50, padding = 'post')  # Each sequences are padded to have equal size.\n",
    "\n",
    "x_train = np.array(x_train_padseq)\n",
    "y_train = np.array(to_categorical(train_data['label']))"
   ]
  },
  {
   "cell_type": "code",
   "execution_count": 18,
   "metadata": {
    "execution": {
     "iopub.execute_input": "2023-11-03T19:45:05.324862Z",
     "iopub.status.busy": "2023-11-03T19:45:05.324607Z",
     "iopub.status.idle": "2023-11-03T19:45:05.374348Z",
     "shell.execute_reply": "2023-11-03T19:45:05.373651Z",
     "shell.execute_reply.started": "2023-11-03T19:45:05.324837Z"
    },
    "executionInfo": {
     "elapsed": 25,
     "status": "ok",
     "timestamp": 1712330233672,
     "user": {
      "displayName": "Jatin Sharma",
      "userId": "09853579477481339635"
     },
     "user_tz": -330
    },
    "id": "ssa2sSwOJI3r"
   },
   "outputs": [],
   "source": [
    "# In this cell the validation processed texts are converted into respective numeric sequences which are further padded to have equal sizes.\n",
    "\n",
    "x_validation_sequences = []\n",
    "\n",
    "for i in processed_validation_data:\n",
    "  x_validation_sequences.append(tokenizer.texts_to_sequences([i])[0])    # Each processed text is converted into sequences\n",
    "\n",
    "\n",
    "x_validation_padseq = pad_sequences(x_validation_sequences,maxlen = 50, padding = 'post')    # Each sequences are padded to have equal size.\n",
    "\n",
    "x_validation = np.array(x_validation_padseq)\n",
    "y_validation = np.array(to_categorical(validation_data['label']))"
   ]
  },
  {
   "cell_type": "code",
   "execution_count": 19,
   "metadata": {
    "execution": {
     "iopub.execute_input": "2023-11-03T19:45:05.375617Z",
     "iopub.status.busy": "2023-11-03T19:45:05.375363Z",
     "iopub.status.idle": "2023-11-03T19:45:05.422381Z",
     "shell.execute_reply": "2023-11-03T19:45:05.421541Z",
     "shell.execute_reply.started": "2023-11-03T19:45:05.375594Z"
    },
    "executionInfo": {
     "elapsed": 862,
     "status": "ok",
     "timestamp": 1712330234509,
     "user": {
      "displayName": "Jatin Sharma",
      "userId": "09853579477481339635"
     },
     "user_tz": -330
    },
    "id": "Kr8OXfDRJI3r"
   },
   "outputs": [],
   "source": [
    "# In this cell the test processed texts are converted into respective numeric sequences which are further padded to have equal sizes.\n",
    "\n",
    "x_test_sequences = []\n",
    "\n",
    "for i in processed_test_data:\n",
    "  x_test_sequences.append(tokenizer.texts_to_sequences([i])[0])     # Each processed text is converted into sequences\n",
    "\n",
    "\n",
    "x_test_padseq = pad_sequences(x_test_sequences,maxlen = 50, padding = 'post')    # Each sequences are padded to have equal size.\n",
    "\n",
    "x_test = np.array(x_test_padseq)\n",
    "y_test = np.array(test_data['label'])"
   ]
  },
  {
   "cell_type": "markdown",
   "metadata": {
    "id": "EBU_uWpmJI3s"
   },
   "source": [
    "# 4. Model Building and Model Training"
   ]
  },
  {
   "cell_type": "code",
   "execution_count": 20,
   "metadata": {
    "execution": {
     "iopub.execute_input": "2023-11-03T19:45:05.423756Z",
     "iopub.status.busy": "2023-11-03T19:45:05.423501Z",
     "iopub.status.idle": "2023-11-03T19:45:05.427937Z",
     "shell.execute_reply": "2023-11-03T19:45:05.427137Z",
     "shell.execute_reply.started": "2023-11-03T19:45:05.423732Z"
    },
    "executionInfo": {
     "elapsed": 2,
     "status": "ok",
     "timestamp": 1712330234509,
     "user": {
      "displayName": "Jatin Sharma",
      "userId": "09853579477481339635"
     },
     "user_tz": -330
    },
    "id": "-7GrwMBDJI3s"
   },
   "outputs": [],
   "source": [
    "## Defining the hyperparameter of the embedding layer\n",
    "\n",
    "vocab_size = 20360   # vocabulary size of the tokenizer\n",
    "dim = 50             # Number of dense vector dimension required for the output\n",
    "sent_length = 50    # The length of each sequence"
   ]
  },
  {
   "cell_type": "code",
   "execution_count": 21,
   "metadata": {
    "colab": {
     "base_uri": "https://localhost:8080/"
    },
    "execution": {
     "iopub.execute_input": "2023-11-03T19:45:05.429400Z",
     "iopub.status.busy": "2023-11-03T19:45:05.429107Z",
     "iopub.status.idle": "2023-11-03T19:45:12.178247Z",
     "shell.execute_reply": "2023-11-03T19:45:12.176869Z",
     "shell.execute_reply.started": "2023-11-03T19:45:05.429368Z"
    },
    "executionInfo": {
     "elapsed": 475,
     "status": "ok",
     "timestamp": 1712330234982,
     "user": {
      "displayName": "Jatin Sharma",
      "userId": "09853579477481339635"
     },
     "user_tz": -330
    },
    "id": "d_ItFVqiJI3s",
    "outputId": "025a2960-469b-4142-d4de-4df4a2c8eb98"
   },
   "outputs": [
    {
     "name": "stdout",
     "output_type": "stream",
     "text": [
      "Model: \"sequential\"\n",
      "_________________________________________________________________\n",
      " Layer (type)                Output Shape              Param #   \n",
      "=================================================================\n",
      " embedding (Embedding)       (None, 50, 50)            1018000   \n",
      "                                                                 \n",
      " bidirectional (Bidirection  (None, 200)               120800    \n",
      " al)                                                             \n",
      "                                                                 \n",
      " dense (Dense)               (None, 6)                 1206      \n",
      "                                                                 \n",
      "=================================================================\n",
      "Total params: 1140006 (4.35 MB)\n",
      "Trainable params: 1140006 (4.35 MB)\n",
      "Non-trainable params: 0 (0.00 Byte)\n",
      "_________________________________________________________________\n"
     ]
    }
   ],
   "source": [
    "## Bidirectional LSTM model\n",
    "\n",
    "bidirectional_lstm_model = Sequential()\n",
    "\n",
    "bidirectional_lstm_model.add(Embedding(vocab_size,dim,input_length = sent_length))\n",
    "bidirectional_lstm_model.add(Bidirectional(LSTM(100)))\n",
    "bidirectional_lstm_model.add(Dense(6,activation = 'softmax'))\n",
    "\n",
    "bidirectional_lstm_model.compile(loss='categorical_crossentropy',optimizer='adam',metrics=['accuracy'])\n",
    "\n",
    "bidirectional_lstm_model.summary()"
   ]
  },
  {
   "cell_type": "code",
   "execution_count": 28,
   "metadata": {},
   "outputs": [
    {
     "ename": "FileNotFoundError",
     "evalue": "[Errno 2] Unable to open file (unable to open file: name = 'lstm_model2.h5', errno = 2, error message = 'No such file or directory', flags = 0, o_flags = 0)",
     "output_type": "error",
     "traceback": [
      "\u001b[1;31m---------------------------------------------------------------------------\u001b[0m",
      "\u001b[1;31mFileNotFoundError\u001b[0m                         Traceback (most recent call last)",
      "\u001b[1;32mC:\\Users\\PROFES~1\\AppData\\Local\\Temp/ipykernel_34252/3367178608.py\u001b[0m in \u001b[0;36m<module>\u001b[1;34m\u001b[0m\n\u001b[1;32m----> 1\u001b[1;33m \u001b[0mbidirectional_lstm_model\u001b[0m\u001b[1;33m.\u001b[0m\u001b[0mload_weights\u001b[0m\u001b[1;33m(\u001b[0m\u001b[1;34m\"lstm_model2.h5\"\u001b[0m\u001b[1;33m)\u001b[0m\u001b[1;33m\u001b[0m\u001b[1;33m\u001b[0m\u001b[0m\n\u001b[0m\u001b[0;32m      2\u001b[0m \u001b[0mbidirectional_lstm_model\u001b[0m\u001b[1;33m.\u001b[0m\u001b[0mevaluate\u001b[0m\u001b[1;33m(\u001b[0m\u001b[1;33m)\u001b[0m\u001b[1;33m\u001b[0m\u001b[1;33m\u001b[0m\u001b[0m\n",
      "\u001b[1;32mc:\\users\\professional\\appdata\\local\\programs\\python\\python38\\lib\\site-packages\\keras\\src\\utils\\traceback_utils.py\u001b[0m in \u001b[0;36merror_handler\u001b[1;34m(*args, **kwargs)\u001b[0m\n\u001b[0;32m     68\u001b[0m             \u001b[1;31m# To get the full stack trace, call:\u001b[0m\u001b[1;33m\u001b[0m\u001b[1;33m\u001b[0m\u001b[1;33m\u001b[0m\u001b[0m\n\u001b[0;32m     69\u001b[0m             \u001b[1;31m# `tf.debugging.disable_traceback_filtering()`\u001b[0m\u001b[1;33m\u001b[0m\u001b[1;33m\u001b[0m\u001b[1;33m\u001b[0m\u001b[0m\n\u001b[1;32m---> 70\u001b[1;33m             \u001b[1;32mraise\u001b[0m \u001b[0me\u001b[0m\u001b[1;33m.\u001b[0m\u001b[0mwith_traceback\u001b[0m\u001b[1;33m(\u001b[0m\u001b[0mfiltered_tb\u001b[0m\u001b[1;33m)\u001b[0m \u001b[1;32mfrom\u001b[0m \u001b[1;32mNone\u001b[0m\u001b[1;33m\u001b[0m\u001b[1;33m\u001b[0m\u001b[0m\n\u001b[0m\u001b[0;32m     71\u001b[0m         \u001b[1;32mfinally\u001b[0m\u001b[1;33m:\u001b[0m\u001b[1;33m\u001b[0m\u001b[1;33m\u001b[0m\u001b[0m\n\u001b[0;32m     72\u001b[0m             \u001b[1;32mdel\u001b[0m \u001b[0mfiltered_tb\u001b[0m\u001b[1;33m\u001b[0m\u001b[1;33m\u001b[0m\u001b[0m\n",
      "\u001b[1;32mc:\\users\\professional\\appdata\\local\\programs\\python\\python38\\lib\\site-packages\\h5py\\_hl\\files.py\u001b[0m in \u001b[0;36m__init__\u001b[1;34m(self, name, mode, driver, libver, userblock_size, swmr, rdcc_nslots, rdcc_nbytes, rdcc_w0, track_order, fs_strategy, fs_persist, fs_threshold, fs_page_size, page_buf_size, min_meta_keep, min_raw_keep, locking, alignment_threshold, alignment_interval, **kwds)\u001b[0m\n\u001b[0;32m    531\u001b[0m                                  \u001b[0mfs_persist\u001b[0m\u001b[1;33m=\u001b[0m\u001b[0mfs_persist\u001b[0m\u001b[1;33m,\u001b[0m \u001b[0mfs_threshold\u001b[0m\u001b[1;33m=\u001b[0m\u001b[0mfs_threshold\u001b[0m\u001b[1;33m,\u001b[0m\u001b[1;33m\u001b[0m\u001b[1;33m\u001b[0m\u001b[0m\n\u001b[0;32m    532\u001b[0m                                  fs_page_size=fs_page_size)\n\u001b[1;32m--> 533\u001b[1;33m                 \u001b[0mfid\u001b[0m \u001b[1;33m=\u001b[0m \u001b[0mmake_fid\u001b[0m\u001b[1;33m(\u001b[0m\u001b[0mname\u001b[0m\u001b[1;33m,\u001b[0m \u001b[0mmode\u001b[0m\u001b[1;33m,\u001b[0m \u001b[0muserblock_size\u001b[0m\u001b[1;33m,\u001b[0m \u001b[0mfapl\u001b[0m\u001b[1;33m,\u001b[0m \u001b[0mfcpl\u001b[0m\u001b[1;33m,\u001b[0m \u001b[0mswmr\u001b[0m\u001b[1;33m=\u001b[0m\u001b[0mswmr\u001b[0m\u001b[1;33m)\u001b[0m\u001b[1;33m\u001b[0m\u001b[1;33m\u001b[0m\u001b[0m\n\u001b[0m\u001b[0;32m    534\u001b[0m \u001b[1;33m\u001b[0m\u001b[0m\n\u001b[0;32m    535\u001b[0m             \u001b[1;32mif\u001b[0m \u001b[0misinstance\u001b[0m\u001b[1;33m(\u001b[0m\u001b[0mlibver\u001b[0m\u001b[1;33m,\u001b[0m \u001b[0mtuple\u001b[0m\u001b[1;33m)\u001b[0m\u001b[1;33m:\u001b[0m\u001b[1;33m\u001b[0m\u001b[1;33m\u001b[0m\u001b[0m\n",
      "\u001b[1;32mc:\\users\\professional\\appdata\\local\\programs\\python\\python38\\lib\\site-packages\\h5py\\_hl\\files.py\u001b[0m in \u001b[0;36mmake_fid\u001b[1;34m(name, mode, userblock_size, fapl, fcpl, swmr)\u001b[0m\n\u001b[0;32m    224\u001b[0m         \u001b[1;32mif\u001b[0m \u001b[0mswmr\u001b[0m \u001b[1;32mand\u001b[0m \u001b[0mswmr_support\u001b[0m\u001b[1;33m:\u001b[0m\u001b[1;33m\u001b[0m\u001b[1;33m\u001b[0m\u001b[0m\n\u001b[0;32m    225\u001b[0m             \u001b[0mflags\u001b[0m \u001b[1;33m|=\u001b[0m \u001b[0mh5f\u001b[0m\u001b[1;33m.\u001b[0m\u001b[0mACC_SWMR_READ\u001b[0m\u001b[1;33m\u001b[0m\u001b[1;33m\u001b[0m\u001b[0m\n\u001b[1;32m--> 226\u001b[1;33m         \u001b[0mfid\u001b[0m \u001b[1;33m=\u001b[0m \u001b[0mh5f\u001b[0m\u001b[1;33m.\u001b[0m\u001b[0mopen\u001b[0m\u001b[1;33m(\u001b[0m\u001b[0mname\u001b[0m\u001b[1;33m,\u001b[0m \u001b[0mflags\u001b[0m\u001b[1;33m,\u001b[0m \u001b[0mfapl\u001b[0m\u001b[1;33m=\u001b[0m\u001b[0mfapl\u001b[0m\u001b[1;33m)\u001b[0m\u001b[1;33m\u001b[0m\u001b[1;33m\u001b[0m\u001b[0m\n\u001b[0m\u001b[0;32m    227\u001b[0m     \u001b[1;32melif\u001b[0m \u001b[0mmode\u001b[0m \u001b[1;33m==\u001b[0m \u001b[1;34m'r+'\u001b[0m\u001b[1;33m:\u001b[0m\u001b[1;33m\u001b[0m\u001b[1;33m\u001b[0m\u001b[0m\n\u001b[0;32m    228\u001b[0m         \u001b[0mfid\u001b[0m \u001b[1;33m=\u001b[0m \u001b[0mh5f\u001b[0m\u001b[1;33m.\u001b[0m\u001b[0mopen\u001b[0m\u001b[1;33m(\u001b[0m\u001b[0mname\u001b[0m\u001b[1;33m,\u001b[0m \u001b[0mh5f\u001b[0m\u001b[1;33m.\u001b[0m\u001b[0mACC_RDWR\u001b[0m\u001b[1;33m,\u001b[0m \u001b[0mfapl\u001b[0m\u001b[1;33m=\u001b[0m\u001b[0mfapl\u001b[0m\u001b[1;33m)\u001b[0m\u001b[1;33m\u001b[0m\u001b[1;33m\u001b[0m\u001b[0m\n",
      "\u001b[1;32mh5py\\_objects.pyx\u001b[0m in \u001b[0;36mh5py._objects.with_phil.wrapper\u001b[1;34m()\u001b[0m\n",
      "\u001b[1;32mh5py\\_objects.pyx\u001b[0m in \u001b[0;36mh5py._objects.with_phil.wrapper\u001b[1;34m()\u001b[0m\n",
      "\u001b[1;32mh5py\\h5f.pyx\u001b[0m in \u001b[0;36mh5py.h5f.open\u001b[1;34m()\u001b[0m\n",
      "\u001b[1;31mFileNotFoundError\u001b[0m: [Errno 2] Unable to open file (unable to open file: name = 'lstm_model2.h5', errno = 2, error message = 'No such file or directory', flags = 0, o_flags = 0)"
     ]
    }
   ],
   "source": [
    "bidirectional_lstm_model.load_weights(\"lstm_model2.h5\")\n",
    "bidirectional_lstm_model.evaluate()"
   ]
  },
  {
   "cell_type": "code",
   "execution_count": 29,
   "metadata": {
    "colab": {
     "base_uri": "https://localhost:8080/"
    },
    "execution": {
     "iopub.execute_input": "2023-11-03T19:45:12.180301Z",
     "iopub.status.busy": "2023-11-03T19:45:12.179937Z",
     "iopub.status.idle": "2023-11-03T19:46:13.825929Z",
     "shell.execute_reply": "2023-11-03T19:46:13.825021Z",
     "shell.execute_reply.started": "2023-11-03T19:45:12.180274Z"
    },
    "executionInfo": {
     "elapsed": 266897,
     "status": "ok",
     "timestamp": 1712330501875,
     "user": {
      "displayName": "Jatin Sharma",
      "userId": "09853579477481339635"
     },
     "user_tz": -330
    },
    "id": "oO_VlmbUJI3t",
    "outputId": "b91b9ca1-bfca-42af-d396-0f20aba2c536"
   },
   "outputs": [
    {
     "name": "stdout",
     "output_type": "stream",
     "text": [
      "Epoch 1/5\n",
      "500/500 [==============================] - 39s 68ms/step - loss: 1.0358 - accuracy: 0.6109 - val_loss: 0.5101 - val_accuracy: 0.8195\n",
      "Epoch 2/5\n",
      "500/500 [==============================] - 33s 67ms/step - loss: 0.3056 - accuracy: 0.8937 - val_loss: 0.3669 - val_accuracy: 0.8695\n",
      "Epoch 3/5\n",
      "500/500 [==============================] - 32s 64ms/step - loss: 0.1670 - accuracy: 0.9414 - val_loss: 0.3294 - val_accuracy: 0.8780\n",
      "Epoch 4/5\n",
      "500/500 [==============================] - 32s 65ms/step - loss: 0.1148 - accuracy: 0.9587 - val_loss: 0.3798 - val_accuracy: 0.8815\n",
      "Epoch 5/5\n",
      "500/500 [==============================] - 34s 69ms/step - loss: 0.0902 - accuracy: 0.9664 - val_loss: 0.3723 - val_accuracy: 0.8795\n"
     ]
    }
   ],
   "source": [
    "# Training the Bidirectional LSTM model\n",
    "\n",
    "bidirectional_lstm_model_history = bidirectional_lstm_model.fit(x = x_train, y = y_train, validation_data = (x_validation,y_validation), epochs = 5, batch_size = 32)"
   ]
  },
  {
   "cell_type": "code",
   "execution_count": null,
   "metadata": {
    "colab": {
     "base_uri": "https://localhost:8080/"
    },
    "execution": {
     "iopub.execute_input": "2023-11-03T19:46:13.827509Z",
     "iopub.status.busy": "2023-11-03T19:46:13.827237Z",
     "iopub.status.idle": "2023-11-03T19:46:13.950662Z",
     "shell.execute_reply": "2023-11-03T19:46:13.949747Z",
     "shell.execute_reply.started": "2023-11-03T19:46:13.827484Z"
    },
    "executionInfo": {
     "elapsed": 30,
     "status": "ok",
     "timestamp": 1712330501876,
     "user": {
      "displayName": "Jatin Sharma",
      "userId": "09853579477481339635"
     },
     "user_tz": -330
    },
    "id": "5e5UD83KJI3t",
    "outputId": "32c000bc-6749-427b-819a-e3cb7265dd09"
   },
   "outputs": [],
   "source": [
    "# # LSTM model\n",
    "\n",
    "# lstm_model = Sequential()\n",
    "\n",
    "# lstm_model.add(Embedding(vocab_size,dim,input_length = sent_length))\n",
    "# lstm_model.add(LSTM(100,activation='relu'))\n",
    "# lstm_model.add(Dense(6,activation = 'softmax'))\n",
    "\n",
    "# lstm_model.compile(loss='categorical_crossentropy',optimizer='adam',metrics=['accuracy'])\n",
    "\n",
    "# lstm_model.summary()"
   ]
  },
  {
   "cell_type": "code",
   "execution_count": null,
   "metadata": {
    "colab": {
     "base_uri": "https://localhost:8080/"
    },
    "execution": {
     "iopub.execute_input": "2023-11-03T20:03:33.778281Z",
     "iopub.status.busy": "2023-11-03T20:03:33.777454Z",
     "iopub.status.idle": "2023-11-03T20:07:13.090494Z",
     "shell.execute_reply": "2023-11-03T20:07:13.089666Z",
     "shell.execute_reply.started": "2023-11-03T20:03:33.778241Z"
    },
    "executionInfo": {
     "elapsed": 141834,
     "status": "ok",
     "timestamp": 1712330643703,
     "user": {
      "displayName": "Jatin Sharma",
      "userId": "09853579477481339635"
     },
     "user_tz": -330
    },
    "id": "PeO1wjseJI3u",
    "outputId": "cb49fa0b-fda3-4437-ee5a-da8fc7081abe"
   },
   "outputs": [],
   "source": [
    "# # Train the LSTM model\n",
    "\n",
    "# lstm_model_history = lstm_model.fit(x = x_train, y = y_train, validation_data = (x_validation,y_validation), epochs = 5, batch_size = 32)"
   ]
  },
  {
   "cell_type": "code",
   "execution_count": null,
   "metadata": {
    "colab": {
     "base_uri": "https://localhost:8080/"
    },
    "execution": {
     "iopub.execute_input": "2023-11-03T19:50:22.419194Z",
     "iopub.status.busy": "2023-11-03T19:50:22.418326Z",
     "iopub.status.idle": "2023-11-03T19:50:23.193899Z",
     "shell.execute_reply": "2023-11-03T19:50:23.192976Z",
     "shell.execute_reply.started": "2023-11-03T19:50:22.419153Z"
    },
    "executionInfo": {
     "elapsed": 1038,
     "status": "ok",
     "timestamp": 1712330644718,
     "user": {
      "displayName": "Jatin Sharma",
      "userId": "09853579477481339635"
     },
     "user_tz": -330
    },
    "id": "vfEjn1SJJI3v",
    "outputId": "dc4c217f-7454-4ede-abf5-e5eb670aa4e6"
   },
   "outputs": [],
   "source": [
    "# # Stacked LSTM model\n",
    "\n",
    "# stack_lstm_model = Sequential()\n",
    "\n",
    "# stack_lstm_model.add(Embedding(vocab_size,dim,input_length = sent_length))\n",
    "# stack_lstm_model.add(LSTM(100,return_sequences = True))\n",
    "# stack_lstm_model.add(LSTM(100,return_sequences = True))\n",
    "# stack_lstm_model.add(LSTM(50))\n",
    "# stack_lstm_model.add(Dense(6,activation = 'softmax'))\n",
    "\n",
    "# stack_lstm_model.compile(loss='categorical_crossentropy',optimizer='adam',metrics=['accuracy'])\n",
    "\n",
    "# stack_lstm_model.summary()"
   ]
  },
  {
   "cell_type": "code",
   "execution_count": null,
   "metadata": {
    "colab": {
     "base_uri": "https://localhost:8080/"
    },
    "execution": {
     "iopub.execute_input": "2023-11-03T19:56:34.835361Z",
     "iopub.status.busy": "2023-11-03T19:56:34.834934Z",
     "iopub.status.idle": "2023-11-03T19:57:15.871371Z",
     "shell.execute_reply": "2023-11-03T19:57:15.870322Z",
     "shell.execute_reply.started": "2023-11-03T19:56:34.835327Z"
    },
    "executionInfo": {
     "elapsed": 326905,
     "status": "ok",
     "timestamp": 1712330971613,
     "user": {
      "displayName": "Jatin Sharma",
      "userId": "09853579477481339635"
     },
     "user_tz": -330
    },
    "id": "ttcWnU2PJI3v",
    "outputId": "74a81257-a51c-42b1-d3a5-d32a51855cb6"
   },
   "outputs": [],
   "source": [
    "# # Train the stack LSTM Model\n",
    "\n",
    "# stack_lstm_model_history = stack_lstm_model.fit(x = x_train, y = y_train, validation_data = (x_validation,y_validation), epochs = 5, batch_size = 32)"
   ]
  },
  {
   "cell_type": "code",
   "execution_count": null,
   "metadata": {
    "colab": {
     "base_uri": "https://localhost:8080/"
    },
    "executionInfo": {
     "elapsed": 837,
     "status": "ok",
     "timestamp": 1712330972429,
     "user": {
      "displayName": "Jatin Sharma",
      "userId": "09853579477481339635"
     },
     "user_tz": -330
    },
    "id": "vG1oc8glfusB",
    "outputId": "ce21c136-1d48-48ad-a4a1-840789c1f26f"
   },
   "outputs": [],
   "source": [
    "# # Bidirectional GRU model\n",
    "\n",
    "# bidirectional_gru_model = Sequential()\n",
    "\n",
    "# bidirectional_gru_model.add(Embedding(vocab_size,dim,input_length = sent_length))\n",
    "# bidirectional_gru_model.add(Bidirectional(GRU(100)))\n",
    "# bidirectional_gru_model.add(Dense(6,activation = 'softmax'))\n",
    "\n",
    "# bidirectional_gru_model.compile(loss='categorical_crossentropy',optimizer='adam',metrics=['accuracy'])\n",
    "\n",
    "# bidirectional_gru_model.summary()"
   ]
  },
  {
   "cell_type": "code",
   "execution_count": null,
   "metadata": {
    "colab": {
     "base_uri": "https://localhost:8080/"
    },
    "executionInfo": {
     "elapsed": 266857,
     "status": "ok",
     "timestamp": 1712331239279,
     "user": {
      "displayName": "Jatin Sharma",
      "userId": "09853579477481339635"
     },
     "user_tz": -330
    },
    "id": "5DuD1QbCfwYf",
    "outputId": "a47de5ba-c238-4a2a-e5d7-b3ee29caa9df"
   },
   "outputs": [],
   "source": [
    "# # Train the bidirectional GRU model\n",
    "\n",
    "# bidirectional_gru_model_history = bidirectional_gru_model.fit(x = x_train, y = y_train, validation_data = (x_validation,y_validation), epochs = 5, batch_size = 32)"
   ]
  },
  {
   "cell_type": "code",
   "execution_count": null,
   "metadata": {
    "executionInfo": {
     "elapsed": 26,
     "status": "ok",
     "timestamp": 1712331239280,
     "user": {
      "displayName": "Jatin Sharma",
      "userId": "09853579477481339635"
     },
     "user_tz": -330
    },
    "id": "OuFjRxhyfvsI"
   },
   "outputs": [],
   "source": []
  },
  {
   "cell_type": "markdown",
   "metadata": {
    "id": "OuSAJPO8JI3y"
   },
   "source": [
    "# 5. Evaluation of Models"
   ]
  },
  {
   "cell_type": "code",
   "execution_count": 30,
   "metadata": {
    "colab": {
     "base_uri": "https://localhost:8080/",
     "height": 1000
    },
    "execution": {
     "iopub.execute_input": "2023-11-03T20:09:21.863185Z",
     "iopub.status.busy": "2023-11-03T20:09:21.862772Z",
     "iopub.status.idle": "2023-11-03T20:09:25.189373Z",
     "shell.execute_reply": "2023-11-03T20:09:25.188472Z",
     "shell.execute_reply.started": "2023-11-03T20:09:21.863149Z"
    },
    "executionInfo": {
     "elapsed": 2817,
     "status": "ok",
     "timestamp": 1712331242093,
     "user": {
      "displayName": "Jatin Sharma",
      "userId": "09853579477481339635"
     },
     "user_tz": -330
    },
    "id": "CledXbeqJI3y",
    "outputId": "008eb7df-84d7-415d-d1aa-dd667ccf5708"
   },
   "outputs": [
    {
     "data": {
      "image/png": "[encoded data removed]",
      "text/plain": [
       "<Figure size 864x432 with 2 Axes>"
      ]
     },
     "metadata": {
      "needs_background": "light"
     },
     "output_type": "display_data"
    }
   ],
   "source": [
    "# Setting the figure size of the plot\n",
    "plt.figure(figsize=(12,6))\n",
    "\n",
    "\n",
    "# Plotting the accuracy plot of Bidirectional LSTM model\n",
    "plt.subplot(1,2,1)\n",
    "plt.title(\"Bidirectional LSTM Model Accuracy\")\n",
    "plt.plot(bidirectional_lstm_model_history.history['accuracy'],label='Accuracy')\n",
    "plt.plot(bidirectional_lstm_model_history.history['val_accuracy'],label='Validation Accuracy')\n",
    "plt.xlabel(\"Epochs\")\n",
    "plt.ylabel(\"Accuracy\")\n",
    "plt.legend()\n",
    "\n",
    "\n",
    "# Plotting the loss plot of Bidirectional LSTM model\n",
    "plt.subplot(1,2,2)\n",
    "plt.title(\"Bidirectional LSTM Model Loss\")\n",
    "plt.plot(bidirectional_lstm_model_history.history['loss'],label='Loss')\n",
    "plt.plot(bidirectional_lstm_model_history.history['val_loss'],label='Validation Loss')\n",
    "plt.xlabel(\"Epochs\")\n",
    "plt.ylabel(\"Loss\")\n",
    "plt.legend()\n",
    "plt.show()\n",
    "\n",
    "# # Plotting the accuracy plot of LSTM model\n",
    "# plt.figure(figsize=(12,6))\n",
    "# plt.subplot(1,2,1)\n",
    "# plt.title(\"LSTM Model Accuracy\")\n",
    "# plt.plot(lstm_model_history.history['accuracy'],label='Accuracy')\n",
    "# plt.plot(lstm_model_history.history['val_accuracy'],label='Validation Accuracy')\n",
    "# plt.xlabel(\"Epochs\")\n",
    "# plt.ylabel(\"Accuracy\")\n",
    "# plt.legend()\n",
    "\n",
    "# # Plotting the loss plot of LSTM model\n",
    "# plt.subplot(1,2,2)\n",
    "# plt.title(\"LSTM Model Loss\")\n",
    "# plt.plot(lstm_model_history.history['loss'],label='Loss')\n",
    "# plt.plot(lstm_model_history.history['val_loss'],label='Validation Loss')\n",
    "# plt.xlabel(\"Epochs\")\n",
    "# plt.ylabel(\"Loss\")\n",
    "# plt.legend()\n",
    "# plt.show()\n",
    "\n",
    "# # Plotting the accuracy plot of Stack LSTM model\n",
    "# plt.figure(figsize=(12,6))\n",
    "# plt.subplot(1,2,1)\n",
    "# plt.title(\"Stack LSTM Model Accuracy\")\n",
    "# plt.plot(stack_lstm_model_history.history['accuracy'],label='Accuracy')\n",
    "# plt.plot(stack_lstm_model_history.history['val_accuracy'],label='Validation Accuracy')\n",
    "# plt.xlabel(\"Epochs\")\n",
    "# plt.ylabel(\"Accuracy\")\n",
    "# plt.legend()\n",
    "\n",
    "# # Plotting the loss plot of Stack LSTM model\n",
    "# plt.subplot(1,2,2)\n",
    "# plt.title(\"Stack LSTM Model Loss\")\n",
    "# plt.plot(stack_lstm_model_history.history['loss'],label='Loss')\n",
    "# plt.plot(stack_lstm_model_history.history['val_loss'],label='Validation Loss')\n",
    "# plt.xlabel(\"Epochs\")\n",
    "# plt.ylabel(\"Loss\")\n",
    "# plt.legend()\n",
    "# plt.show()\n",
    "\n",
    "\n"
   ]
  },
  {
   "cell_type": "code",
   "execution_count": 31,
   "metadata": {
    "colab": {
     "base_uri": "https://localhost:8080/"
    },
    "execution": {
     "iopub.execute_input": "2023-11-03T20:09:53.313933Z",
     "iopub.status.busy": "2023-11-03T20:09:53.313555Z",
     "iopub.status.idle": "2023-11-03T20:09:55.553083Z",
     "shell.execute_reply": "2023-11-03T20:09:55.552298Z",
     "shell.execute_reply.started": "2023-11-03T20:09:53.313890Z"
    },
    "executionInfo": {
     "elapsed": 16581,
     "status": "ok",
     "timestamp": 1712331295197,
     "user": {
      "displayName": "Jatin Sharma",
      "userId": "09853579477481339635"
     },
     "user_tz": -330
    },
    "id": "H5YNA1U5JI35",
    "outputId": "908d64e8-19f7-4158-bdcd-a0b8eb897f41"
   },
   "outputs": [
    {
     "name": "stdout",
     "output_type": "stream",
     "text": [
      "63/63 [==============================] - 2s 15ms/step\n"
     ]
    },
    {
     "ename": "NameError",
     "evalue": "name 'y_pred_lstm' is not defined",
     "output_type": "error",
     "traceback": [
      "\u001b[1;31m---------------------------------------------------------------------------\u001b[0m",
      "\u001b[1;31mNameError\u001b[0m                                 Traceback (most recent call last)",
      "\u001b[1;32mC:\\Users\\PROFES~1\\AppData\\Local\\Temp/ipykernel_34252/3349664118.py\u001b[0m in \u001b[0;36m<module>\u001b[1;34m\u001b[0m\n\u001b[0;32m     11\u001b[0m \u001b[1;31m# ---------------------------------------------------------------------\u001b[0m\u001b[1;33m\u001b[0m\u001b[1;33m\u001b[0m\u001b[1;33m\u001b[0m\u001b[0m\n\u001b[0;32m     12\u001b[0m \u001b[0my_pred_bilstm\u001b[0m \u001b[1;33m=\u001b[0m \u001b[0mnp\u001b[0m\u001b[1;33m.\u001b[0m\u001b[0marray\u001b[0m\u001b[1;33m(\u001b[0m\u001b[1;33m[\u001b[0m\u001b[0mnp\u001b[0m\u001b[1;33m.\u001b[0m\u001b[0margmax\u001b[0m\u001b[1;33m(\u001b[0m\u001b[0mx\u001b[0m\u001b[1;33m)\u001b[0m \u001b[1;32mfor\u001b[0m \u001b[0mx\u001b[0m \u001b[1;32min\u001b[0m \u001b[0my_pred_bilstm\u001b[0m\u001b[1;33m]\u001b[0m\u001b[1;33m)\u001b[0m\u001b[1;33m\u001b[0m\u001b[1;33m\u001b[0m\u001b[0m\n\u001b[1;32m---> 13\u001b[1;33m \u001b[0my_pred_lstm\u001b[0m \u001b[1;33m=\u001b[0m \u001b[0mnp\u001b[0m\u001b[1;33m.\u001b[0m\u001b[0marray\u001b[0m\u001b[1;33m(\u001b[0m\u001b[1;33m[\u001b[0m\u001b[0mnp\u001b[0m\u001b[1;33m.\u001b[0m\u001b[0margmax\u001b[0m\u001b[1;33m(\u001b[0m\u001b[0mx\u001b[0m\u001b[1;33m)\u001b[0m \u001b[1;32mfor\u001b[0m \u001b[0mx\u001b[0m \u001b[1;32min\u001b[0m \u001b[0my_pred_lstm\u001b[0m\u001b[1;33m]\u001b[0m\u001b[1;33m)\u001b[0m\u001b[1;33m\u001b[0m\u001b[1;33m\u001b[0m\u001b[0m\n\u001b[0m\u001b[0;32m     14\u001b[0m \u001b[0my_pred_stacklstm\u001b[0m \u001b[1;33m=\u001b[0m \u001b[0mnp\u001b[0m\u001b[1;33m.\u001b[0m\u001b[0marray\u001b[0m\u001b[1;33m(\u001b[0m\u001b[1;33m[\u001b[0m\u001b[0mnp\u001b[0m\u001b[1;33m.\u001b[0m\u001b[0margmax\u001b[0m\u001b[1;33m(\u001b[0m\u001b[0mx\u001b[0m\u001b[1;33m)\u001b[0m \u001b[1;32mfor\u001b[0m \u001b[0mx\u001b[0m \u001b[1;32min\u001b[0m \u001b[0my_pred_stacklstm\u001b[0m\u001b[1;33m]\u001b[0m\u001b[1;33m)\u001b[0m\u001b[1;33m\u001b[0m\u001b[1;33m\u001b[0m\u001b[0m\n\u001b[0;32m     15\u001b[0m \u001b[0my_pred_bigru\u001b[0m \u001b[1;33m=\u001b[0m \u001b[0mnp\u001b[0m\u001b[1;33m.\u001b[0m\u001b[0marray\u001b[0m\u001b[1;33m(\u001b[0m\u001b[1;33m[\u001b[0m\u001b[0mnp\u001b[0m\u001b[1;33m.\u001b[0m\u001b[0margmax\u001b[0m\u001b[1;33m(\u001b[0m\u001b[0mx\u001b[0m\u001b[1;33m)\u001b[0m \u001b[1;32mfor\u001b[0m \u001b[0mx\u001b[0m \u001b[1;32min\u001b[0m \u001b[0my_pred_bigru\u001b[0m\u001b[1;33m]\u001b[0m\u001b[1;33m)\u001b[0m\u001b[1;33m\u001b[0m\u001b[1;33m\u001b[0m\u001b[0m\n",
      "\u001b[1;31mNameError\u001b[0m: name 'y_pred_lstm' is not defined"
     ]
    }
   ],
   "source": [
    "# Predicting the output of each model on test data for model evaluation\n",
    "# ----------------------------------------------------------------------\n",
    "y_pred_bilstm = bidirectional_lstm_model.predict(x_test)\n",
    "# y_pred_lstm = lstm_model.predict(x_test)\n",
    "# y_pred_stacklstm = stack_lstm_model.predict(x_test)\n",
    "# y_pred_bigru = bidirectional_gru_model.predict(x_test)\n",
    "\n",
    "\n",
    "\n",
    "# Converting the continuous output model into discrete classes\n",
    "# ---------------------------------------------------------------------\n",
    "y_pred_bilstm = np.array([np.argmax(x) for x in y_pred_bilstm])\n",
    "y_pred_lstm = np.array([np.argmax(x) for x in y_pred_lstm])\n",
    "y_pred_stacklstm = np.array([np.argmax(x) for x in y_pred_stacklstm])\n",
    "y_pred_bigru = np.array([np.argmax(x) for x in y_pred_bigru])\n"
   ]
  },
  {
   "cell_type": "code",
   "execution_count": null,
   "metadata": {
    "colab": {
     "base_uri": "https://localhost:8080/",
     "height": 178
    },
    "execution": {
     "iopub.execute_input": "2023-11-03T20:20:08.327007Z",
     "iopub.status.busy": "2023-11-03T20:20:08.326613Z",
     "iopub.status.idle": "2023-11-03T20:20:08.972024Z",
     "shell.execute_reply": "2023-11-03T20:20:08.971012Z",
     "shell.execute_reply.started": "2023-11-03T20:20:08.326953Z"
    },
    "executionInfo": {
     "elapsed": 10,
     "status": "ok",
     "timestamp": 1712331295197,
     "user": {
      "displayName": "Jatin Sharma",
      "userId": "09853579477481339635"
     },
     "user_tz": -330
    },
    "id": "xoY1NUTzJI36",
    "outputId": "7ee516db-d63e-4b2b-98cd-27af4df175aa"
   },
   "outputs": [],
   "source": [
    "# # Predicting the accuracy_score,f1_score,recall_score,precision_score of each model\n",
    "# # Then converting all the details into dataframe\n",
    "\n",
    "\n",
    "# result = {\"Model Name\":['Bidirectional LSTM',\"LSTM\",\"Stack LSTM\"],\n",
    "#          \"Accuracy Score\":[accuracy_score(y_test,y_pred_bilstm),accuracy_score(y_test,y_pred_lstm),accuracy_score(y_test,y_pred_stacklstm)],\n",
    "#          \"F1 Score(macro)\":[f1_score(y_test,y_pred_bilstm,average='macro'),f1_score(y_test,y_pred_lstm,average='macro'),f1_score(y_test,y_pred_stacklstm,average='macro')],\n",
    "#          \"Recall Score(macro)\":[recall_score(y_test,y_pred_bilstm,average='macro'),recall_score(y_test,y_pred_lstm,average='macro'),recall_score(y_test,y_pred_stacklstm,average='macro')],\n",
    "#          \"Precision Score(macro)\":[precision_score(y_test,y_pred_bilstm,average='macro'),precision_score(y_test,y_pred_lstm,average='macro'),precision_score(y_test,y_pred_stacklstm,average='macro')],\n",
    "#          \"F1 Score(micro)\":[f1_score(y_test,y_pred_bilstm,average='micro'),f1_score(y_test,y_pred_lstm,average='micro'),f1_score(y_test,y_pred_stacklstm,average='micro')],\n",
    "#          \"Recall Score(micro)\":[recall_score(y_test,y_pred_bilstm,average='micro'),recall_score(y_test,y_pred_lstm,average='micro'),recall_score(y_test,y_pred_stacklstm,average='micro')],\n",
    "#          \"Precision Score(micro)\":[precision_score(y_test,y_pred_bilstm,average='micro'),precision_score(y_test,y_pred_lstm,average='micro'),precision_score(y_test,y_pred_stacklstm,average='micro')],}\n",
    "\n",
    "# result_df = pd.DataFrame(result)\n",
    "\n",
    "# result_df.to_excel(\"Report of Trained Model.xlsx\")\n",
    "\n",
    "# display(result_df)"
   ]
  },
  {
   "cell_type": "markdown",
   "metadata": {
    "id": "pouSqPPYJI36"
   },
   "source": [
    "# 6. Predictive System to perform prediction on custom data"
   ]
  },
  {
   "cell_type": "code",
   "execution_count": 32,
   "metadata": {
    "execution": {
     "iopub.execute_input": "2023-11-03T20:13:19.258101Z",
     "iopub.status.busy": "2023-11-03T20:13:19.257707Z",
     "iopub.status.idle": "2023-11-03T20:13:19.264777Z",
     "shell.execute_reply": "2023-11-03T20:13:19.263766Z",
     "shell.execute_reply.started": "2023-11-03T20:13:19.258063Z"
    },
    "executionInfo": {
     "elapsed": 8,
     "status": "ok",
     "timestamp": 1712331295198,
     "user": {
      "displayName": "Jatin Sharma",
      "userId": "09853579477481339635"
     },
     "user_tz": -330
    },
    "id": "eQeuE5c6JI36"
   },
   "outputs": [],
   "source": [
    "# Making a predictive function which takes the input as text and in output it provide the emotion of the text\n",
    "\n",
    "def predict_emotion_of_text(text):\n",
    "\n",
    "    processed_text = text_preprocess(text)\n",
    "    text_to_sequence = tokenizer.texts_to_sequences([processed_text])[0]\n",
    "    padded_sequence = pad_sequences([text_to_sequence],maxlen = 50, padding = 'post')\n",
    "\n",
    "    prediction = bidirectional_lstm_model.predict(padded_sequence)[0]    # We can use any model from  above like Bidirection LSTM, LSTM, Stack LSTM, GRU, Stack GRU Or Bidirectional GRU. As the accuracy of Bidirectional is more. So in this case I have Choose this model in predictive system.\n",
    "\n",
    "    classes = ['joy','sadness','anger','fear','love','surprise']\n",
    "\n",
    "\n",
    "    print(\"Input: \",text)\n",
    "    print(\"Output: \",classes[np.argmax(prediction)])\n",
    "    print(\"\\n\")"
   ]
  },
  {
   "cell_type": "code",
   "execution_count": 33,
   "metadata": {
    "colab": {
     "base_uri": "https://localhost:8080/"
    },
    "execution": {
     "iopub.execute_input": "2023-11-03T20:15:00.678592Z",
     "iopub.status.busy": "2023-11-03T20:15:00.677825Z",
     "iopub.status.idle": "2023-11-03T20:15:01.033740Z",
     "shell.execute_reply": "2023-11-03T20:15:01.032873Z",
     "shell.execute_reply.started": "2023-11-03T20:15:00.678558Z"
    },
    "executionInfo": {
     "elapsed": 1248,
     "status": "ok",
     "timestamp": 1712333240442,
     "user": {
      "displayName": "Jatin Sharma",
      "userId": "09853579477481339635"
     },
     "user_tz": -330
    },
    "id": "SBjGjDaRJI36",
    "outputId": "e0588615-215b-4281-ec20-241e442b1326"
   },
   "outputs": [
    {
     "name": "stdout",
     "output_type": "stream",
     "text": [
      "1/1 [==============================] - 0s 34ms/step\n",
      "Input:  Today is a bad day for me\n",
      "Output:  sadness\n",
      "\n",
      "\n",
      "1/1 [==============================] - 0s 34ms/step\n",
      "Input:  she always gets angry if she doesn't get her own way\n",
      "Output:  anger\n",
      "\n",
      "\n",
      "1/1 [==============================] - 0s 35ms/step\n",
      "Input:  I love myself\n",
      "Output:  love\n",
      "\n",
      "\n",
      "1/1 [==============================] - 0s 34ms/step\n",
      "Input:  wow! this is amazing\n",
      "Output:  surprise\n",
      "\n",
      "\n",
      "1/1 [==============================] - 0s 34ms/step\n",
      "Input:  That horror movie is so scary\n",
      "Output:  fear\n",
      "\n",
      "\n",
      "1/1 [==============================] - 0s 35ms/step\n",
      "Input:  Wow! what a lovely surprise\n",
      "Output:  surprise\n",
      "\n",
      "\n"
     ]
    }
   ],
   "source": [
    "# Testing our model output with my own custom data\n",
    "\n",
    "predict_emotion_of_text(\"Today is a bad day for me\")\n",
    "predict_emotion_of_text(\"she always gets angry if she doesn't get her own way\")\n",
    "predict_emotion_of_text(\"I love myself\")\n",
    "predict_emotion_of_text(\"wow! this is amazing\")\n",
    "predict_emotion_of_text(\"That horror movie is so scary\")\n",
    "predict_emotion_of_text(\"Wow! what a lovely surprise\")"
   ]
  },
  {
   "cell_type": "code",
   "execution_count": null,
   "metadata": {
    "executionInfo": {
     "elapsed": 5,
     "status": "ok",
     "timestamp": 1712331296454,
     "user": {
      "displayName": "Jatin Sharma",
      "userId": "09853579477481339635"
     },
     "user_tz": -330
    },
    "id": "L8QCrbC3VnAN"
   },
   "outputs": [],
   "source": []
  },
  {
   "cell_type": "code",
   "execution_count": null,
   "metadata": {
    "colab": {
     "base_uri": "https://localhost:8080/"
    },
    "executionInfo": {
     "elapsed": 889,
     "status": "ok",
     "timestamp": 1712333380414,
     "user": {
      "displayName": "Jatin Sharma",
      "userId": "09853579477481339635"
     },
     "user_tz": -330
    },
    "id": "R1oDMScAJI37",
    "outputId": "9df77c8b-1f13-46ad-bbf4-d90019df2f11"
   },
   "outputs": [],
   "source": [
    "predict_emotion_of_text(\"i am very scared of darkness\")"
   ]
  },
  {
   "cell_type": "code",
   "execution_count": 36,
   "metadata": {
    "executionInfo": {
     "elapsed": 4,
     "status": "ok",
     "timestamp": 1712333386163,
     "user": {
      "displayName": "Jatin Sharma",
      "userId": "09853579477481339635"
     },
     "user_tz": -330
    },
    "id": "pGZxIAHAYkcL"
   },
   "outputs": [
    {
     "ename": "NameError",
     "evalue": "name 'model' is not defined",
     "output_type": "error",
     "traceback": [
      "\u001b[1;31m---------------------------------------------------------------------------\u001b[0m",
      "\u001b[1;31mNameError\u001b[0m                                 Traceback (most recent call last)",
      "\u001b[1;32mC:\\Users\\PROFES~1\\AppData\\Local\\Temp/ipykernel_34252/4191947088.py\u001b[0m in \u001b[0;36m<module>\u001b[1;34m\u001b[0m\n\u001b[1;32m----> 1\u001b[1;33m \u001b[0mmodel\u001b[0m\u001b[1;33m.\u001b[0m\u001b[0mbidirectional_lstm_model\u001b[0m\u001b[1;33m.\u001b[0m\u001b[0msave\u001b[0m\u001b[1;33m(\u001b[0m\u001b[1;34m'Mymodels/lstm_emotion_model3.h5'\u001b[0m\u001b[1;33m)\u001b[0m\u001b[1;33m\u001b[0m\u001b[1;33m\u001b[0m\u001b[0m\n\u001b[0m",
      "\u001b[1;31mNameError\u001b[0m: name 'model' is not defined"
     ]
    }
   ],
   "source": [
    "bidirectional_lstm_model.save('Mymodels/lstm_emotion_model3.h5')"
   ]
  },
  {
   "cell_type": "code",
   "execution_count": null,
   "metadata": {
    "executionInfo": {
     "elapsed": 9,
     "status": "aborted",
     "timestamp": 1712331257454,
     "user": {
      "displayName": "Jatin Sharma",
      "userId": "09853579477481339635"
     },
     "user_tz": -330
    },
    "id": "OP_8iCS_Y1LI"
   },
   "outputs": [],
   "source": []
  }
 ],
 "metadata": {
  "colab": {
   "provenance": []
  },
  "kernelspec": {
   "display_name": "Python 3 (ipykernel)",
   "language": "python",
   "name": "python3"
  },
  "language_info": {
   "codemirror_mode": {
    "name": "ipython",
    "version": 3
   },
   "file_extension": ".py",
   "mimetype": "text/x-python",
   "name": "python",
   "nbconvert_exporter": "python",
   "pygments_lexer": "ipython3",
   "version": "3.8.5"
  }
 },
 "nbformat": 4,
 "nbformat_minor": 1
}
